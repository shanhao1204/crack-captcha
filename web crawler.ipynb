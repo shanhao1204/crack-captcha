{
 "cells": [
  {
   "cell_type": "code",
   "execution_count": 8,
   "metadata": {},
   "outputs": [],
   "source": [
    "import matplotlib.pyplot as plt\n",
    "import cv2\n",
    "import numpy as np\n",
    "import pytesseract\n",
    "import re\n",
    "from selenium import webdriver\n",
    "from selenium.webdriver.common.keys import Keys\n",
    "from selenium.webdriver.common.action_chains import ActionChains\n",
    "from selenium.webdriver.common.by import By\n",
    "import base64\n",
    "import time\n",
    "from PIL import Image\n",
    "from io import BytesIO\n",
    "import warnings\n",
    "warnings.filterwarnings(\"ignore\")\n",
    "\n",
    "def cropImg(img):\n",
    "    location = img.location\n",
    "    size = img.size\n",
    "    top,bottom,left,right = location['y'], location['y']+size['height'],\\\n",
    "                            location['x'], location['x']+size['width']\n",
    "    screenshot = driver.get_screenshot_as_png()\n",
    "    screenshot = Image.open(BytesIO(screenshot))\n",
    "    screenshot = screenshot.crop((left, top, right, bottom))\n",
    "    screenshot.save('/Users/syuan/captcha/captcha_login.png')\n",
    "    img1 = cv2.imread(\"/Users/syuan/captcha/captcha_login.png\", cv2.IMREAD_GRAYSCALE)\n",
    "    return img1\n",
    "\n",
    "def pre_precessing(img):\n",
    "#     plt.figure(figsize=(12, 14))\n",
    "    col = len(img[0])\n",
    "    row = len(img)\n",
    "    #在圖的外圍加一圈pixel，防止index error。\n",
    "    b = np.array([[255] for i in range(45)])\n",
    "    new_arr = np.concatenate(img, b, axis=1)\n",
    "    new_arr2 = np.array([np.insert(row, 0, 255) for row in new_arr])\n",
    "    c = [[255]*142]\n",
    "    new_arr3 = np.concatenate(new_arr2, c, axis=0)\n",
    "    dst = np.vstack((c, new_arr3)).astype(dtype='uint8')\n",
    "\n",
    "    #觀察到圖片噪點幾乎都是單一pixel，且也有橫/斜線，因此遍歷圖上所有pixel，若上下或左右皆是白色，則將此pixel設為白色\n",
    "    for i in range(1, row):\n",
    "        for j in range(1, col):\n",
    "            if dst[i-1][j] == 255 and dst[i+1][j] == 255:\n",
    "                dst[i][j] = 255\n",
    "            elif dst[i][j-1] == 255 and dst[i][j+1] == 255:\n",
    "                dst[i][j] = 255\n",
    "\n",
    "#     plt.imshow(dst, cmap='gray')\n",
    "    blur_img = cv2.GaussianBlur(dst, (0, 0), 100)#先用高斯模糊\n",
    "    usm = cv2.addWeighted(dst, 0.5, blur_img, -0.5, 0)#以原圖:模糊圖片=0.5:-0.5的比例進行混合，得到銳化後的圖片\n",
    "#     plt.figure(figsize=(5, 6))\n",
    "#     plt.title('sharpening')\n",
    "#     plt.imshow(usm, cmap='gray')\n",
    "    dst = np.array(usm, dtype = np.uint8)\n",
    "    capcha = pytesseract.image_to_string(dst, lang = 'eng')\n",
    "    regex = re.compile(\"\\d*\\d*\\d*\\d*\\d*\")\n",
    "    match = regex.findall(capcha)\n",
    "    return ''.join(match), dst\n",
    "\n",
    "def cut_img(p_img):\n",
    "    temp = []\n",
    "    for j in range(5):\n",
    "        #plt.subplot(1, 5, j+1)\n",
    "        img = p_img[10:40, 10+(j)*25:40+(j)*25]#分割數字\n",
    "        temp.append(img)\n",
    "        #plt.imshow(temp[-1], cmap='gray')\n",
    "    return temp"
   ]
  },
  {
   "cell_type": "code",
   "execution_count": null,
   "metadata": {},
   "outputs": [],
   "source": [
    "driver = webdriver.Chrome(\"/Users/syuan/chromedriver_mac64/chromedriver\")\n",
    "driver.get(\"https://reg-prod.tzuchi-healthcare.org.tw/tchw/HIS5OpdReg/RegQryCancel?Loc=XD\")"
   ]
  },
  {
   "cell_type": "code",
   "execution_count": 513,
   "metadata": {},
   "outputs": [],
   "source": [
    "X_train = pd.Series([])\n",
    "y_train = pd.Series([], dtype='uint8')\n",
    "for i in range(1000):\n",
    "    img = driver.find_element(By.XPATH, \"//*[@id='MainContent_imgVCode']\")#定位驗證碼\n",
    "    capcha = cropImg(img)#網頁截圖並切割出驗證碼\n",
    "    string, p_img= pre_precessing(capcha)#OCR辨識\n",
    "    #輸入資料\n",
    "    driver.find_element(By.XPATH, \"//*[@id='MainContent_tbxMRNo']\").send_keys(id_number)\n",
    "    driver.find_element(By.XPATH, \"//*[@id='MainContent_tbxBirthday']\").send_keys(birthday)\n",
    "    driver.find_element(By.XPATH, \"//*[@id='MainContent_tbxVCode']\").send_keys(string)\n",
    "    #點擊查詢\n",
    "    driver.find_element(By.XPATH, \"//*[@id='MainContent_btnQry']\").click()\n",
    "    time.sleep(0.5)\n",
    "    try:\n",
    "        #若成功則儲存驗證碼及其標籤\n",
    "        driver.find_element(By.XPATH, \"//*[@id='MainContent_gvList']/tbody/tr/td\")\n",
    "        \n",
    "        c_img = pd.Series(cut_img(p_img))\n",
    "        lst_num = [int(i) for i in string]\n",
    "        series_num = pd.Series(lst_num, dtype='uint8')\n",
    "        X_train = X_train.append(c_img)\n",
    "        y_train = y_train.append(series_num)\n",
    "            \n",
    "        driver.back()\n",
    "        time.sleep(0.5)\n",
    "        actions = ActionChains(driver)\n",
    "        actions.send_keys(Keys.ENTER)\n",
    "        driver.find_element(By.XPATH, \"//*[@id='MainContent_tbxMRNo']\").clear()\n",
    "        driver.find_element(By.XPATH, \"//*[@id='MainContent_tbxBirthday']\").clear()\n",
    "        driver.find_element(By.XPATH, \"//*[@id='MainContent_tbxVCode']\").clear()\n",
    "        driver.find_element(By.XPATH, \"//*[@id='MainContent_btnReflash']\").click()\n",
    "    except:\n",
    "        actions = ActionChains(driver)\n",
    "        actions.send_keys(Keys.ENTER)\n",
    "        driver.find_element(By.XPATH, \"//*[@id='MainContent_tbxMRNo']\").clear()\n",
    "        driver.find_element(By.XPATH, \"//*[@id='MainContent_tbxBirthday']\").clear()\n",
    "        driver.find_element(By.XPATH, \"//*[@id='MainContent_tbxVCode']\").clear()\n",
    "        driver.find_element(By.XPATH, \"//*[@id='MainContent_btnReflash']\").click()\n",
    "        time.sleep(0.3)\n",
    "X_train.reset_index(drop=True, inplace=True)\n",
    "y_train.reset_index(drop=True, inplace=True)\n",
    "df_temp = pd.DataFrame({'X_train': X_train, 'y_train': y_train})\n",
    "df_temp.to_csv('training_data.csv')"
   ]
  },
  {
   "cell_type": "code",
   "execution_count": 322,
   "metadata": {},
   "outputs": [
    {
     "data": {
      "text/plain": [
       "0.5992900808519029"
      ]
     },
     "execution_count": 322,
     "metadata": {},
     "output_type": "execute_result"
    }
   ],
   "source": [
    "15195/(5071*5)#實際上有辨識出來的張數/總共的張數"
   ]
  },
  {
   "cell_type": "code",
   "execution_count": 324,
   "metadata": {},
   "outputs": [
    {
     "data": {
      "text/plain": [
       "0.6022324359816152"
      ]
     },
     "execution_count": 324,
     "metadata": {},
     "output_type": "execute_result"
    }
   ],
   "source": [
    "4586/(1523*5)#實際上有辨識出來的張數/總共的張數"
   ]
  },
  {
   "cell_type": "code",
   "execution_count": 336,
   "metadata": {},
   "outputs": [
    {
     "data": {
      "text/plain": [
       "0.5957132298595713"
      ]
     },
     "execution_count": 336,
     "metadata": {},
     "output_type": "execute_result"
    }
   ],
   "source": [
    "20150/(6765*5)"
   ]
  }
 ],
 "metadata": {
  "kernelspec": {
   "display_name": "Python 3 (ipykernel)",
   "language": "python",
   "name": "python3"
  },
  "language_info": {
   "codemirror_mode": {
    "name": "ipython",
    "version": 3
   },
   "file_extension": ".py",
   "mimetype": "text/x-python",
   "name": "python",
   "nbconvert_exporter": "python",
   "pygments_lexer": "ipython3",
   "version": "3.9.16"
  }
 },
 "nbformat": 4,
 "nbformat_minor": 2
}
